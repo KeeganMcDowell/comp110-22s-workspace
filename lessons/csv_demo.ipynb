{
 "cells": [
  {
   "cell_type": "markdown",
   "metadata": {},
   "source": [
    "# Working with CSV Data\n",
    "\n",
    "Comma-separated value files are commonly used for sharing tables of data between systems.\n",
    "\n",
    "Programs like Microsoft Excel, Google Sheets, as well as popular data base systems can produce CSV files as ezports and programs, such as the one we will write today, have libraries for reading and processing data in from CSV files."
   ]
  },
  {
   "cell_type": "code",
   "execution_count": 1,
   "metadata": {},
   "outputs": [
    {
     "name": "stdout",
     "output_type": "stream",
     "text": [
      "Autoreload of imported modules enabled. Be sure to save your modules!\n"
     ]
    }
   ],
   "source": [
    "%reload_ext autoreload\n",
    "%autoreload 2\n",
    "print(\"Autoreload of imported modules enabled. Be sure to save your modules!\")"
   ]
  },
  {
   "cell_type": "markdown",
   "metadata": {},
   "source": [
    "## Importing Utility Functions\n",
    "\n",
    "Our helper functions will be located in `lessons/data_utils.py` and we will import the functions in the code below."
   ]
  },
  {
   "cell_type": "code",
   "execution_count": 12,
   "metadata": {},
   "outputs": [
    {
     "ename": "ImportError",
     "evalue": "cannot import name 'column_values' from 'data_utils' (c:\\Users\\wkeegan\\Documents\\Comp 110\\comp110-22s-workspace\\lessons\\data_utils.py)",
     "output_type": "error",
     "traceback": [
      "\u001b[1;31m---------------------------------------------------------------------------\u001b[0m",
      "\u001b[1;31mImportError\u001b[0m                               Traceback (most recent call last)",
      "\u001b[1;32mc:\\Users\\wkeegan\\Documents\\Comp 110\\comp110-22s-workspace\\lessons\\csv_demo.ipynb Cell 4'\u001b[0m in \u001b[0;36m<module>\u001b[1;34m\u001b[0m\n\u001b[1;32m----> <a href='vscode-notebook-cell:/c%3A/Users/wkeegan/Documents/Comp%20110/comp110-22s-workspace/lessons/csv_demo.ipynb#ch0000003?line=0'>1</a>\u001b[0m \u001b[39mfrom\u001b[39;00m \u001b[39mdata_utils\u001b[39;00m \u001b[39mimport\u001b[39;00m read_csv_rows, column_values\n\u001b[0;32m      <a href='vscode-notebook-cell:/c%3A/Users/wkeegan/Documents/Comp%20110/comp110-22s-workspace/lessons/csv_demo.ipynb#ch0000003?line=2'>3</a>\u001b[0m data_file: \u001b[39mstr\u001b[39m \u001b[39m=\u001b[39m \u001b[39m\"\u001b[39m\u001b[39m../data/weather.csv\u001b[39m\u001b[39m\"\u001b[39m\n\u001b[0;32m      <a href='vscode-notebook-cell:/c%3A/Users/wkeegan/Documents/Comp%20110/comp110-22s-workspace/lessons/csv_demo.ipynb#ch0000003?line=3'>4</a>\u001b[0m data_table: \u001b[39mlist\u001b[39m[\u001b[39mdict\u001b[39m[\u001b[39mstr\u001b[39m, \u001b[39mstr\u001b[39m]] \u001b[39m=\u001b[39m read_csv_rows(data_file)\n",
      "\u001b[1;31mImportError\u001b[0m: cannot import name 'column_values' from 'data_utils' (c:\\Users\\wkeegan\\Documents\\Comp 110\\comp110-22s-workspace\\lessons\\data_utils.py)"
     ]
    }
   ],
   "source": [
    "from data_utils import read_csv_rows, column_values\n",
    "\n",
    "data_file: str = \"../data/weather.csv\"\n",
    "data_table: list[dict[str, str]] = read_csv_rows(data_file)\n",
    "data_table"
   ]
  },
  {
   "cell_type": "markdown",
   "metadata": {},
   "source": [
    "## Selecting the values of a single column with `column_values`"
   ]
  },
  {
   "cell_type": "code",
   "execution_count": 11,
   "metadata": {},
   "outputs": [
    {
     "ename": "ImportError",
     "evalue": "cannot import name 'column_values' from 'data_utils' (c:\\Users\\wkeegan\\Documents\\Comp 110\\comp110-22s-workspace\\lessons\\data_utils.py)",
     "output_type": "error",
     "traceback": [
      "\u001b[1;31m---------------------------------------------------------------------------\u001b[0m",
      "\u001b[1;31mImportError\u001b[0m                               Traceback (most recent call last)",
      "\u001b[1;32mc:\\Users\\wkeegan\\Documents\\Comp 110\\comp110-22s-workspace\\lessons\\csv_demo.ipynb Cell 6'\u001b[0m in \u001b[0;36m<module>\u001b[1;34m\u001b[0m\n\u001b[1;32m----> <a href='vscode-notebook-cell:/c%3A/Users/wkeegan/Documents/Comp%20110/comp110-22s-workspace/lessons/csv_demo.ipynb#ch0000006?line=0'>1</a>\u001b[0m \u001b[39mfrom\u001b[39;00m \u001b[39mdata_utils\u001b[39;00m \u001b[39mimport\u001b[39;00m column_values\n\u001b[0;32m      <a href='vscode-notebook-cell:/c%3A/Users/wkeegan/Documents/Comp%20110/comp110-22s-workspace/lessons/csv_demo.ipynb#ch0000006?line=2'>3</a>\u001b[0m dates: \u001b[39mlist\u001b[39m[\u001b[39mstr\u001b[39m] \u001b[39m=\u001b[39m column_values(data_table, \u001b[39m\"\u001b[39m\u001b[39mdate\u001b[39m\u001b[39m\"\u001b[39m)\n\u001b[0;32m      <a href='vscode-notebook-cell:/c%3A/Users/wkeegan/Documents/Comp%20110/comp110-22s-workspace/lessons/csv_demo.ipynb#ch0000006?line=3'>4</a>\u001b[0m dates\n",
      "\u001b[1;31mImportError\u001b[0m: cannot import name 'column_values' from 'data_utils' (c:\\Users\\wkeegan\\Documents\\Comp 110\\comp110-22s-workspace\\lessons\\data_utils.py)"
     ]
    }
   ],
   "source": [
    "dates: list[str] = column_values(data_table, \"date\")\n",
    "dates"
   ]
  }
 ],
 "metadata": {
  "interpreter": {
   "hash": "842f75d6ca182ad4a33b883e64e0f95497c1168c2840242e237cedf0a6cc2e80"
  },
  "kernelspec": {
   "display_name": "Python 3.10.1 64-bit",
   "language": "python",
   "name": "python3"
  },
  "language_info": {
   "codemirror_mode": {
    "name": "ipython",
    "version": 3
   },
   "file_extension": ".py",
   "mimetype": "text/x-python",
   "name": "python",
   "nbconvert_exporter": "python",
   "pygments_lexer": "ipython3",
   "version": "3.10.1"
  },
  "orig_nbformat": 4
 },
 "nbformat": 4,
 "nbformat_minor": 2
}
