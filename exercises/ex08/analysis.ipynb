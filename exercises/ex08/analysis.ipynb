{
 "cells": [
  {
   "cell_type": "markdown",
   "metadata": {},
   "source": [
    "# Analysis for Continuous Improvement\n",
    "\n",
    "Author Name: Keegan McDowell\n",
    "\n",
    "9-digit PID: 730234932\n",
    "\n",
    "Continuous Improvement embraces a belief there is _always room to make things better_. It is a mindset and process we value and practice in this course. In this assignment, you are able to practice continuous improvement and contribute to the design ideas of the course.\n",
    "\n",
    "## Brainstorming Ideas\n",
    "\n",
    "Reflect on your personal experiences and observations in COMP110 and **brainstorm modifications to the course that _create value_ beyond its current design**. When brainstorming, try not to be critical of the ideas you come up with regarding scale, stakeholders impacted, or for any other reasons. In the markdown cell below, brainstorm 3 to 5 ideas you think would create value for you.\n",
    "\n",
    "Each brainstormed idea should state a. the suggested change or addition, b. what the expected value created, and c. which specific stakeholders would benefit.  If helpful, expand on the following template \"The course should (state idea here) because it will (state value created here) for (insert stakeholders here).\"\n",
    "\n",
    "Example A: \"The course should use only examples from psychology experiments because it will be more relevant for students who are psychology majors.\"\n",
    "\n",
    "Example B: \"The course should not have post-lesson questions because they are not useful for most students in the class.\""
   ]
  },
  {
   "cell_type": "markdown",
   "metadata": {},
   "source": [
    "### Part 1. Creative Ideation\n",
    "\n",
    "1. The course should have more in person learning because it will make learning the material easier for students who do not learn well through videos.\n",
    "2. The course should use more real data sets because it will allow better context and easier understanding for the students.\n",
    "3. The course should have more, but potentially smaller, programming assignments because they make programming the focus, including hands on use of the language for students.\n",
    "4. The course should have focus on how the skills are used in potential career settings because it will help understanding of the scope and importance of the course for students.\n",
    "5. The course should have more opportunity for one on one help because that is the best way to get direct engagement from students. "
   ]
  },
  {
   "cell_type": "markdown",
   "metadata": {},
   "source": [
    "## Connecting with Available Data\n",
    "\n",
    "The data you have available for this analysis is limited to the anonymized course survey you and your peers filled out a few weeks ago. The data is found in the `survey.csv` file in this exercise directory. Each row represents an individual survey response. Each column has a description which can be found on the project write-up here: <https://22s.comp110.com/exercises/ex08.html>\n",
    "\n",
    "Review the list of available data and identify which one of your ideas _does not_, or is _least likely to_, have relevant data to support the analysis of your idea to create value. In the box below, identify which of your ideas lacks data and suggest how we might be able to collect this data in the future. One aspect of _continuous improvement_ is trying to avoid \"tunnel vision\" where possible improvements are not considered because there is no data available to analyze it. Identifying new data sources can unlock improvements!"
   ]
  },
  {
   "cell_type": "markdown",
   "metadata": {},
   "source": [
    "### Part 2. Identifying Missing Data\n",
    "\n",
    "1. Idea without sufficient data to analyze: My second idea, using more real life data sets, has the least support in the data. \n",
    "\n",
    "2. Suggestion for how to collect data to support this idea in the future: Asking whether learning with abstract, light data or more fulfilled, larger data sets is more useful to the students, potentially on the same 1 to 7 scale used in other survey questions."
   ]
  },
  {
   "cell_type": "markdown",
   "metadata": {},
   "source": [
    "## Choosing an Idea to Analyze\n",
    "\n",
    "Consider those of your ideas which _do_ seem likely to have relevant data to analyze. If none of your ideas do, spend a few minutes and brainstorm another idea or two with the added connection of data available on hand and add those ideas to your brainstormed ideas list.\n",
    "\n",
    "Select the one idea which you believe is _most valuable_ to analyze relative to the others and has data to support the analysis of. In the markdown cell for Part 3 below, identify the idea you are exploring and articulate why you believe it is most valuable (e.g. widest impact, biggest opportunity for improvement, simplest change for significant improvement, and so on)."
   ]
  },
  {
   "cell_type": "markdown",
   "metadata": {},
   "source": [
    "### Part 3. Choosing Your Analysis\n",
    "\n",
    "1. Idea to analyze with available data: Idea 1, using more in person lectures.\n",
    "\n",
    "2. This idea is more valuable than the others brainstormed because: There are questions that specifically show people's thoughts on how effective synchronous classes are as well as on flipped classrooms. Another angle to look at it would be whether those things are different among those who have taken other comp classes/have prior experience and those who do not.\n"
   ]
  },
  {
   "cell_type": "markdown",
   "metadata": {},
   "source": [
    "## Your Analysis\n",
    "\n",
    "Before you begin analysis, a reminder that we do not expect the data to support everyone's ideas and you can complete this exercise for full credit even if the data does not clearly support your suggestion or even completely refutes it. What we are looking for is a logical attempt to explore the data using the techniques you have learned up until now in a way that _either_ supports, refutes, or does not have a clear result and then to reflect on your findings after the analysis.\n",
    "\n",
    "Using the utility functions you created for the previous exercise, you will continue with your analysis in the following part. Before you begin, refer to the rubric on the technical expectations of this section in the exercise write-up.\n",
    "\n",
    "In this section, you are expected to interleave code and markdown cells such that for each step of your analysis you are starting with an English description of what you are planning to do next in a markdown cell, followed by a Python cell that performs that step of the analysis."
   ]
  },
  {
   "cell_type": "markdown",
   "metadata": {},
   "source": [
    "### Part 4. Analysis\n",
    "\n",
    "We begin by changing some settings in the notebook to automatically reload changes to imported files."
   ]
  },
  {
   "cell_type": "code",
   "execution_count": 92,
   "metadata": {},
   "outputs": [],
   "source": [
    "%reload_ext autoreload\n",
    "%autoreload 2"
   ]
  },
  {
   "cell_type": "markdown",
   "metadata": {},
   "source": [
    "# Organization of Data \n",
    "\n",
    "We continue by importing the helper functions from `data_utils`."
   ]
  },
  {
   "cell_type": "code",
   "execution_count": 93,
   "metadata": {},
   "outputs": [],
   "source": [
    "from data_utils import read_csv_rows, head, select, columnar, several_means, count"
   ]
  },
  {
   "cell_type": "markdown",
   "metadata": {},
   "source": [
    "Next, we use the `read_csv_rows` function to read the rows of a csv file into a table and get an overview of the data."
   ]
  },
  {
   "cell_type": "code",
   "execution_count": 94,
   "metadata": {},
   "outputs": [
    {
     "name": "stdout",
     "output_type": "stream",
     "text": [
      "620 rows\n",
      "35 columns\n",
      "Columns names: dict_keys(['row', 'year', 'unc_status', 'comp_major', 'primary_major', 'data_science', 'prereqs', 'prior_exp', 'ap_principles', 'ap_a', 'other_comp', 'prior_time', 'languages', 'hours_online_social', 'hours_online_work', 'lesson_time', 'sync_perf', 'all_sync', 'flipped_class', 'no_hybrid', 'own_notes', 'own_examples', 'oh_visits', 'ls_effective', 'lsqs_effective', 'programming_effective', 'qz_effective', 'oh_effective', 'tutoring_effective', 'pace', 'difficulty', 'understanding', 'interesting', 'valuable', 'would_recommend'])\n"
     ]
    }
   ],
   "source": [
    "SURVEY_DATA_CSV_FILE_PATH: str = \"../../data/survey.csv\"\n",
    "\n",
    "survey_data_rows: list[dict[str, str]] = read_csv_rows(SURVEY_DATA_CSV_FILE_PATH)\n",
    "\n",
    "print(f\"{len(survey_data_rows)} rows\")\n",
    "print(f\"{len(survey_data_rows[0].keys())} columns\")\n",
    "print(f\"Columns names: {survey_data_rows[0].keys()}\")"
   ]
  },
  {
   "cell_type": "markdown",
   "metadata": {},
   "source": [
    "Then, we use the `columnar` function in order to convert a row-oriented table to a column-oriented table."
   ]
  },
  {
   "cell_type": "code",
   "execution_count": 95,
   "metadata": {},
   "outputs": [
    {
     "name": "stdout",
     "output_type": "stream",
     "text": [
      "35 columns\n",
      "Columns names: dict_keys(['row', 'year', 'unc_status', 'comp_major', 'primary_major', 'data_science', 'prereqs', 'prior_exp', 'ap_principles', 'ap_a', 'other_comp', 'prior_time', 'languages', 'hours_online_social', 'hours_online_work', 'lesson_time', 'sync_perf', 'all_sync', 'flipped_class', 'no_hybrid', 'own_notes', 'own_examples', 'oh_visits', 'ls_effective', 'lsqs_effective', 'programming_effective', 'qz_effective', 'oh_effective', 'tutoring_effective', 'pace', 'difficulty', 'understanding', 'interesting', 'valuable', 'would_recommend'])\n"
     ]
    }
   ],
   "source": [
    "survey_data: dict[str, list[str]] = columnar(survey_data_rows)\n",
    "\n",
    "print(f\"{len(survey_data.keys())} columns\")\n",
    "print(f\"Columns names: {survey_data.keys()}\")"
   ]
  },
  {
   "cell_type": "markdown",
   "metadata": {},
   "source": [
    "We then cut the table down to columns that we believe will be helpful in answering the question using the `select` function and the `head` function to show only a piece of the data."
   ]
  },
  {
   "cell_type": "code",
   "execution_count": 96,
   "metadata": {},
   "outputs": [
    {
     "data": {
      "text/html": [
       "<table>\n",
       "<thead>\n",
       "<tr><th style=\"text-align: right;\">  year</th><th>prior_exp                   </th><th>other_comp                      </th><th>prior_time                  </th><th style=\"text-align: right;\">  sync_perf</th><th style=\"text-align: right;\">  all_sync</th><th style=\"text-align: right;\">  flipped_class</th><th style=\"text-align: right;\">  ls_effective</th><th style=\"text-align: right;\">  difficulty</th><th style=\"text-align: right;\">  understanding</th></tr>\n",
       "</thead>\n",
       "<tbody>\n",
       "<tr><td style=\"text-align: right;\">    22</td><td>7-12 months                 </td><td>UNC                             </td><td>1 month or so               </td><td style=\"text-align: right;\">          2</td><td style=\"text-align: right;\">         2</td><td style=\"text-align: right;\">              1</td><td style=\"text-align: right;\">             7</td><td style=\"text-align: right;\">           1</td><td style=\"text-align: right;\">              7</td></tr>\n",
       "<tr><td style=\"text-align: right;\">    25</td><td>None to less than one month!</td><td>                                </td><td>                            </td><td style=\"text-align: right;\">          3</td><td style=\"text-align: right;\">         3</td><td style=\"text-align: right;\">              1</td><td style=\"text-align: right;\">             5</td><td style=\"text-align: right;\">           6</td><td style=\"text-align: right;\">              3</td></tr>\n",
       "<tr><td style=\"text-align: right;\">    25</td><td>None to less than one month!</td><td>                                </td><td>                            </td><td style=\"text-align: right;\">          3</td><td style=\"text-align: right;\">         4</td><td style=\"text-align: right;\">              2</td><td style=\"text-align: right;\">             5</td><td style=\"text-align: right;\">           4</td><td style=\"text-align: right;\">              6</td></tr>\n",
       "<tr><td style=\"text-align: right;\">    24</td><td>2-6 months                  </td><td>High school course (IB or other)</td><td>None to less than one month!</td><td style=\"text-align: right;\">          5</td><td style=\"text-align: right;\">         4</td><td style=\"text-align: right;\">              3</td><td style=\"text-align: right;\">             6</td><td style=\"text-align: right;\">           4</td><td style=\"text-align: right;\">              5</td></tr>\n",
       "<tr><td style=\"text-align: right;\">    25</td><td>None to less than one month!</td><td>                                </td><td>                            </td><td style=\"text-align: right;\">          3</td><td style=\"text-align: right;\">         3</td><td style=\"text-align: right;\">              3</td><td style=\"text-align: right;\">             6</td><td style=\"text-align: right;\">           5</td><td style=\"text-align: right;\">              5</td></tr>\n",
       "<tr><td style=\"text-align: right;\">    25</td><td>2-6 months                  </td><td>High school course (IB or other)</td><td>1 month or so               </td><td style=\"text-align: right;\">          2</td><td style=\"text-align: right;\">         2</td><td style=\"text-align: right;\">              2</td><td style=\"text-align: right;\">             7</td><td style=\"text-align: right;\">           3</td><td style=\"text-align: right;\">              6</td></tr>\n",
       "<tr><td style=\"text-align: right;\">    25</td><td>2-6 months                  </td><td>High school course (IB or other)</td><td>7-12 months                 </td><td style=\"text-align: right;\">          3</td><td style=\"text-align: right;\">         3</td><td style=\"text-align: right;\">              5</td><td style=\"text-align: right;\">             7</td><td style=\"text-align: right;\">           4</td><td style=\"text-align: right;\">              6</td></tr>\n",
       "<tr><td style=\"text-align: right;\">    24</td><td>None to less than one month!</td><td>                                </td><td>                            </td><td style=\"text-align: right;\">          2</td><td style=\"text-align: right;\">         2</td><td style=\"text-align: right;\">              1</td><td style=\"text-align: right;\">             7</td><td style=\"text-align: right;\">           4</td><td style=\"text-align: right;\">              7</td></tr>\n",
       "<tr><td style=\"text-align: right;\">    25</td><td>None to less than one month!</td><td>                                </td><td>                            </td><td style=\"text-align: right;\">          5</td><td style=\"text-align: right;\">         4</td><td style=\"text-align: right;\">              6</td><td style=\"text-align: right;\">             7</td><td style=\"text-align: right;\">           4</td><td style=\"text-align: right;\">              6</td></tr>\n",
       "<tr><td style=\"text-align: right;\">    22</td><td>None to less than one month!</td><td>                                </td><td>                            </td><td style=\"text-align: right;\">          2</td><td style=\"text-align: right;\">         2</td><td style=\"text-align: right;\">              1</td><td style=\"text-align: right;\">             7</td><td style=\"text-align: right;\">           4</td><td style=\"text-align: right;\">              6</td></tr>\n",
       "</tbody>\n",
       "</table>"
      ],
      "text/plain": [
       "'<table>\\n<thead>\\n<tr><th style=\"text-align: right;\">  year</th><th>prior_exp                   </th><th>other_comp                      </th><th>prior_time                  </th><th style=\"text-align: right;\">  sync_perf</th><th style=\"text-align: right;\">  all_sync</th><th style=\"text-align: right;\">  flipped_class</th><th style=\"text-align: right;\">  ls_effective</th><th style=\"text-align: right;\">  difficulty</th><th style=\"text-align: right;\">  understanding</th></tr>\\n</thead>\\n<tbody>\\n<tr><td style=\"text-align: right;\">    22</td><td>7-12 months                 </td><td>UNC                             </td><td>1 month or so               </td><td style=\"text-align: right;\">          2</td><td style=\"text-align: right;\">         2</td><td style=\"text-align: right;\">              1</td><td style=\"text-align: right;\">             7</td><td style=\"text-align: right;\">           1</td><td style=\"text-align: right;\">              7</td></tr>\\n<tr><td style=\"text-align: right;\">    25</td><td>None to less than one month!</td><td>                                </td><td>                            </td><td style=\"text-align: right;\">          3</td><td style=\"text-align: right;\">         3</td><td style=\"text-align: right;\">              1</td><td style=\"text-align: right;\">             5</td><td style=\"text-align: right;\">           6</td><td style=\"text-align: right;\">              3</td></tr>\\n<tr><td style=\"text-align: right;\">    25</td><td>None to less than one month!</td><td>                                </td><td>                            </td><td style=\"text-align: right;\">          3</td><td style=\"text-align: right;\">         4</td><td style=\"text-align: right;\">              2</td><td style=\"text-align: right;\">             5</td><td style=\"text-align: right;\">           4</td><td style=\"text-align: right;\">              6</td></tr>\\n<tr><td style=\"text-align: right;\">    24</td><td>2-6 months                  </td><td>High school course (IB or other)</td><td>None to less than one month!</td><td style=\"text-align: right;\">          5</td><td style=\"text-align: right;\">         4</td><td style=\"text-align: right;\">              3</td><td style=\"text-align: right;\">             6</td><td style=\"text-align: right;\">           4</td><td style=\"text-align: right;\">              5</td></tr>\\n<tr><td style=\"text-align: right;\">    25</td><td>None to less than one month!</td><td>                                </td><td>                            </td><td style=\"text-align: right;\">          3</td><td style=\"text-align: right;\">         3</td><td style=\"text-align: right;\">              3</td><td style=\"text-align: right;\">             6</td><td style=\"text-align: right;\">           5</td><td style=\"text-align: right;\">              5</td></tr>\\n<tr><td style=\"text-align: right;\">    25</td><td>2-6 months                  </td><td>High school course (IB or other)</td><td>1 month or so               </td><td style=\"text-align: right;\">          2</td><td style=\"text-align: right;\">         2</td><td style=\"text-align: right;\">              2</td><td style=\"text-align: right;\">             7</td><td style=\"text-align: right;\">           3</td><td style=\"text-align: right;\">              6</td></tr>\\n<tr><td style=\"text-align: right;\">    25</td><td>2-6 months                  </td><td>High school course (IB or other)</td><td>7-12 months                 </td><td style=\"text-align: right;\">          3</td><td style=\"text-align: right;\">         3</td><td style=\"text-align: right;\">              5</td><td style=\"text-align: right;\">             7</td><td style=\"text-align: right;\">           4</td><td style=\"text-align: right;\">              6</td></tr>\\n<tr><td style=\"text-align: right;\">    24</td><td>None to less than one month!</td><td>                                </td><td>                            </td><td style=\"text-align: right;\">          2</td><td style=\"text-align: right;\">         2</td><td style=\"text-align: right;\">              1</td><td style=\"text-align: right;\">             7</td><td style=\"text-align: right;\">           4</td><td style=\"text-align: right;\">              7</td></tr>\\n<tr><td style=\"text-align: right;\">    25</td><td>None to less than one month!</td><td>                                </td><td>                            </td><td style=\"text-align: right;\">          5</td><td style=\"text-align: right;\">         4</td><td style=\"text-align: right;\">              6</td><td style=\"text-align: right;\">             7</td><td style=\"text-align: right;\">           4</td><td style=\"text-align: right;\">              6</td></tr>\\n<tr><td style=\"text-align: right;\">    22</td><td>None to less than one month!</td><td>                                </td><td>                            </td><td style=\"text-align: right;\">          2</td><td style=\"text-align: right;\">         2</td><td style=\"text-align: right;\">              1</td><td style=\"text-align: right;\">             7</td><td style=\"text-align: right;\">           4</td><td style=\"text-align: right;\">              6</td></tr>\\n</tbody>\\n</table>'"
      ]
     },
     "execution_count": 96,
     "metadata": {},
     "output_type": "execute_result"
    }
   ],
   "source": [
    "from tabulate import tabulate\n",
    "\n",
    "selected_data: dict[str, list[str]] = select(survey_data, [\"year\", \"prior_exp\", \"other_comp\",\n",
    " \"prior_time\", \"sync_perf\", \"all_sync\",\n",
    " \"flipped_class\", \"ls_effective\",\"difficulty\", \"understanding\"])\n",
    "\n",
    "tabulate(head(selected_data, 10), selected_data.keys(), \"html\")"
   ]
  },
  {
   "cell_type": "markdown",
   "metadata": {},
   "source": [
    "To find if there is any basis to students prefering synchronous learning to asyncronous by looking at several means of columns."
   ]
  },
  {
   "cell_type": "code",
   "execution_count": 97,
   "metadata": {},
   "outputs": [
    {
     "name": "stdout",
     "output_type": "stream",
     "text": [
      "sync_perf mean: 3.0387096774193547\n",
      "all_sync mean: 2.753225806451613\n",
      "flipped_class mean: 2.988709677419355\n",
      "ls_effective mean: 5.827419354838709\n"
     ]
    }
   ],
   "source": [
    "several_means(selected_data, [\"sync_perf\", \"all_sync\", \"flipped_class\", \"ls_effective\"])"
   ]
  },
  {
   "cell_type": "markdown",
   "metadata": {},
   "source": [
    "Next, I decided to look at how many people are experienced with coding/Python in the class to get a better understanding of the students. "
   ]
  },
  {
   "cell_type": "code",
   "execution_count": 100,
   "metadata": {},
   "outputs": [
    {
     "name": "stdout",
     "output_type": "stream",
     "text": [
      "{'7-12 months': 59, 'None to less than one month!': 369, '2-6 months': 142, '1-2 years': 31, 'Over 2 years': 19}\n",
      "{'1 month or so': 69, '': 369, 'None to less than one month!': 102, '7-12 months': 14, '2-6 months': 49, '1-2 years': 10, '> 2 years': 7}\n"
     ]
    }
   ],
   "source": [
    "print(count(selected_data[\"prior_exp\"]))\n",
    "print(count(selected_data[\"prior_time\"]))"
   ]
  },
  {
   "cell_type": "markdown",
   "metadata": {},
   "source": [
    "## Conclusion\n",
    "\n",
    "In the following markdown cell, write a reflective conclusion given the analysis you performed and identify recommendations.\n",
    "\n",
    "If your analysis of the data supports your idea, state your recommendation for the change and summarize the data analysys results you found which support it. Additionally, describe any extensions or refinements to this idea which might be explored further. Finally, discuss the potential costs, trade-offs, or stakeholders who may be negatively impacted by this proposed change.\n",
    "\n",
    "If your analysis of the data is inconclusive, summarize why your data analysis results were inconclusive in the support of your idea. Additionally, describe what experimental idea implementation or additional data collection might help build more confidence in assessing your idea. Finally, discuss the potential costs, trade-offs, or stakeholders who may be negatively impacted by experimenting with your idea.\n",
    "\n",
    "Finally, if your analysis of the data does not support it, summarize your data analysis results and why it refutes your idea. Discuss the potential costs, trade-offs, or stakeholders who may be negatively impacted by this proposed change. If you disagree with the validity of the findings, describe why your idea still makes sense to implement and what alternative data would better support it. If you agree with the validity of the data analysis, describe what alternate ideas or extensions you would explore instead. "
   ]
  },
  {
   "cell_type": "markdown",
   "metadata": {},
   "source": [
    "### Part 5. Conclusion\n",
    "\n",
    "My analysis showed, as is seen by the means, which are not perfect measures of the distribution of the students answers, students feel their performance would not be better in synchronous classes and are not in favor of having the class be returned to synchronous lectures. They generally do believe the lesson videos are effective, giving it close to a 6/7 on average. This shows that, at the very least, the students in the class prefer the current form of teaching and believe that they are performing at their best becuase of it. \n",
    "\n",
    "Although they do not want it, the proposed change would have students in the seats of the class room more often, which would likely lead to higher grades due to more attention. Other factors are the ability to rewatch lectures, which may allow the students to rewatch over and over, finding particular parts they may need when they need it. The professor and TAs would have to spend more time in the classroom as well, especially with multiple sections, essentially teaching the same material over and over again, so it is inefficient on that front. \n",
    "\n",
    "The main problem with the validity of the findings is that the data is based on collected surveys with students who have certain agendas/interest in answering in a way. Most students will tell you they would prefer not to have to get out of bed and go to class because every day and may not tell the truth about how the synchronous/asynchronous class difference is affecting their performance. The data that would actually be needed would be a much larger study showing classes who are synchronous and classes that are not fully and comparing their performances against one another. \n"
   ]
  }
 ],
 "metadata": {
  "interpreter": {
   "hash": "aee8b7b246df8f9039afb4144a1f6fd8d2ca17a180786b69acc140d282b71a49"
  },
  "kernelspec": {
   "display_name": "Python 3.10.2 64-bit",
   "language": "python",
   "name": "python3"
  },
  "language_info": {
   "codemirror_mode": {
    "name": "ipython",
    "version": 3
   },
   "file_extension": ".py",
   "mimetype": "text/x-python",
   "name": "python",
   "nbconvert_exporter": "python",
   "pygments_lexer": "ipython3",
   "version": "3.10.2"
  },
  "orig_nbformat": 4
 },
 "nbformat": 4,
 "nbformat_minor": 2
}
